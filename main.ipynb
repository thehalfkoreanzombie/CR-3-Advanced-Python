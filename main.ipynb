{
 "cells": [
  {
   "cell_type": "markdown",
   "metadata": {},
   "source": [
    "1. Write a function called `no_puppies_allowed()` that can take the `contestants` list as an argument.\n",
    "`no_puppies_allowed()` should remove any contestants from `contestants`  whose age (at index 1 of each inner list) is not greater than 1. No puppies allowed!\n",
    "`no_puppies_allowed()` should return the new list of contestants."
   ]
  },
  {
   "cell_type": "code",
   "execution_count": 2,
   "metadata": {},
   "outputs": [
    {
     "name": "stdout",
     "output_type": "stream",
     "text": [
      "[['Butterball', 3, True, ['herding sheep', 'singing', 'fetch', 'pulling sleds']], ['Kerby', 5, True, ['swimming']], ['Lucy', 5, False, ['fetch', 'solving puzzles']], ['Toaster', 2, False, []], ['Noodles', 4, True, ['pulling sleds']]]\n"
     ]
    }
   ],
   "source": [
    "contestants = [\n",
    "    [\"Binkie\", 1, False, []],\n",
    "    [\"Butterball\", 3, True, [\"herding sheep\", \"singing\", \"fetch\", \"pulling sleds\"]],\n",
    "    [\"Kerby\", 5, True, [\"swimming\"]],\n",
    "    [\"Lucy\", 5, False, [\"fetch\", \"solving puzzles\"]],\n",
    "    [\"Toaster\", 2, False, []],\n",
    "    [\"Fifi\", 1, False, []],\n",
    "    [\"Noodles\", 4, True, [\"pulling sleds\"]]\n",
    "]\n",
    "\n",
    "\n",
    "labels = [\"name\", \"age\", \"does_tricks\", \"other_talents\"]\n",
    "\n",
    "def no_puppies_allowed(list1):\n",
    "    \"\"\"function to remove dogs age 1 and under\"\"\"\n",
    "    #list comprehension removing any dogs age 1 and under\n",
    "    return [age for age in list1 if age[1] > 1]\n",
    "#put function into no_puppies variable for next function\n",
    "no_puppies = no_puppies_allowed(contestants)\n",
    "\n"
   ]
  },
  {
   "cell_type": "markdown",
   "metadata": {},
   "source": [
    "Write a function called `lists_to_dicts()` that can take lists like `labels` and the return value of `no_puppies_allowed()` as arguments. \n",
    "`lists_to_dicts()` should return the list of dictionaries.\n",
    "Each dictionary should represent one dog, with labels as keys and that dog’s info as the values."
   ]
  },
  {
   "cell_type": "code",
   "execution_count": 20,
   "metadata": {},
   "outputs": [],
   "source": [
    "def lists_to_dicts(key_list, value_list):\n",
    "    \"\"\"Function to take dog lists and turn them into dictionaries\n",
    "    arguments:\n",
    "        key_list: list of labels to use as keys \n",
    "        value_list: list of dog traits to use as values \n",
    "    \n",
    "    keys: labels \n",
    "    values: contestant information\n",
    "    \"\"\"\n",
    "    #empty list to append dictionaries to\n",
    "    dict_list = []\n",
    "    #nested = values for dogs\n",
    "    for nested in value_list:\n",
    "        #zipped key_list with nested values. Wrapped into dict\n",
    "        dict1 = dict(zip(key_list, nested))\n",
    "        #append dicts to empty dict_list\n",
    "        dict_list.append(dict1)\n",
    "    return dict_list\n",
    "\n",
    "dog_dict = lists_to_dicts(labels, no_puppies)"
   ]
  },
  {
   "cell_type": "markdown",
   "metadata": {},
   "source": [
    " Write a function called `assign_points()` that can take the return value of `lists_to_dicts()` as an argument.\n",
    "`assign_points()` should add a new key-value pair to each dictionary. The key is the string “points”, and the value will be the number of points for that dog.\n",
    "`assign_points()` should add 1 point if `does_tricks` is True.\n",
    "`assign_points()` should add 1 point for each item in the dog’s `other_talents`.\n",
    "`assign_points()` should return the list of dictionaries that now include points.\n"
   ]
  },
  {
   "cell_type": "code",
   "execution_count": 33,
   "metadata": {},
   "outputs": [
    {
     "name": "stdout",
     "output_type": "stream",
     "text": [
      "[{'name': 'Butterball', 'age': 3, 'does_tricks': True, 'other_talents': ['herding sheep', 'singing', 'fetch', 'pulling sleds'], 'points': 5}, {'name': 'Kerby', 'age': 5, 'does_tricks': True, 'other_talents': ['swimming'], 'points': 2}, {'name': 'Lucy', 'age': 5, 'does_tricks': False, 'other_talents': ['fetch', 'solving puzzles'], 'points': 2}, {'name': 'Toaster', 'age': 2, 'does_tricks': False, 'other_talents': [], 'points': 0}, {'name': 'Noodles', 'age': 4, 'does_tricks': True, 'other_talents': ['pulling sleds'], 'points': 2}]\n"
     ]
    }
   ],
   "source": [
    "def assign_points(list2):\n",
    "    \"\"\"Function to assign 'points' key and integer value to each dog\n",
    "    dogs get:\n",
    "        1 point if they do tricks, 0 if they do not\n",
    "        1 point for each special talent they possess\n",
    "    \"\"\"\n",
    "    for dict1 in list2:\n",
    "        #assign variable to the integer 0 so we can add to it\n",
    "        x = 0\n",
    "        #gives 1 point to the dog if 'does_tricks' = True\n",
    "        if True in dict1.values():\n",
    "            x += 1\n",
    "        #gives 1 point to each dog per 'other_talents' present\n",
    "        for k, v in dict1.items():\n",
    "            #adds to x based on length of 'other_talents' value(s)\n",
    "            if k == \"other_talents\":\n",
    "                x += len(v)\n",
    "        #append the point total to dog's 'points' value\n",
    "        dict1[\"points\"] = x\n",
    "    return list2\n",
    "dict_with_points = assign_points(dog_dict)"
   ]
  },
  {
   "cell_type": "markdown",
   "metadata": {},
   "source": [
    "Now, pick a winner!\n",
    "Write a function called `most_points()` that can take the return value of `assign_points()` as an argument.\n",
    "`most_points()` should find the dog with the most points.\n",
    "Have `most_points()` print a message to congratulate the winner.\n",
    "`most_points()` should return a string containing the name of the winning dog.\n"
   ]
  },
  {
   "cell_type": "code",
   "execution_count": 50,
   "metadata": {},
   "outputs": [
    {
     "name": "stdout",
     "output_type": "stream",
     "text": [
      "Congratulations! Butterball is the official winner of the DataStack Dog Contest!\n"
     ]
    }
   ],
   "source": [
    "def most_points(list3):\n",
    "    \"\"\"Function to find the dog with the most points, and \n",
    "       congratulate that dog on winning the contest\n",
    "    \"\"\"\n",
    "    #used lambda function to find specific value from key x. Used max() to find dict with largest value in 'points'\n",
    "    dog_with_most_points = max(dict_with_points, key=lambda x:x['points'])\n",
    "    #put dict with largest 'points' value into variable dog_with_most_points\n",
    "    print(f\"Congratulations! {dog_with_most_points['name']} is the official winner of the DataStack Dog Contest!\")\n",
    "most_points(dict_with_points)"
   ]
  },
  {
   "cell_type": "markdown",
   "metadata": {},
   "source": [
    "Put it all together in a `main()` function.\n",
    "\n",
    "`main()` should be able to take lists like `contestants` and `labels` as arguments.\n",
    "`main()` should use those arguments to run the functions outlined above, in that order. It should pass the return value of each function to the next function in the sequence.\n",
    "`main() should return the name of the winner. "
   ]
  },
  {
   "cell_type": "code",
   "execution_count": 52,
   "metadata": {},
   "outputs": [
    {
     "name": "stdout",
     "output_type": "stream",
     "text": [
      "Congratulations! Butterball is the official winner of the DataStack Dog Contest!\n"
     ]
    }
   ],
   "source": [
    "def main(key_list, value_list):\n",
    "    no_puppies = no_puppies_allowed(value_list)\n",
    "    dog_dict = lists_to_dicts(key_list, no_puppies)\n",
    "    dict_with_points = assign_points(dog_dict)\n",
    "    most_points(dict_with_points)\n",
    "main(labels, contestants)\n",
    "    "
   ]
  }
 ],
 "metadata": {
  "kernelspec": {
   "display_name": "venv",
   "language": "python",
   "name": "python3"
  },
  "language_info": {
   "codemirror_mode": {
    "name": "ipython",
    "version": 3
   },
   "file_extension": ".py",
   "mimetype": "text/x-python",
   "name": "python",
   "nbconvert_exporter": "python",
   "pygments_lexer": "ipython3",
   "version": "3.11.5"
  }
 },
 "nbformat": 4,
 "nbformat_minor": 2
}
