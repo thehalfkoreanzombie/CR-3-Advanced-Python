{
 "cells": [
  {
   "cell_type": "markdown",
   "metadata": {},
   "source": [
    "1. Write a function called `no_puppies_allowed()` that can take the `contestants` list as an argument.\n",
    "`no_puppies_allowed()` should remove any contestants from `contestants`  whose age (at index 1 of each inner list) is not greater than 1. No puppies allowed!\n",
    "`no_puppies_allowed()` should return the new list of contestants."
   ]
  },
  {
   "cell_type": "code",
   "execution_count": 1,
   "metadata": {},
   "outputs": [
    {
     "data": {
      "text/plain": [
       "[['Butterball',\n",
       "  3,\n",
       "  True,\n",
       "  ['herding sheep', 'singing', 'fetch', 'pulling sleds']],\n",
       " ['Kerby', 5, True, ['swimming']],\n",
       " ['Lucy', 5, False, ['fetch', 'solving puzzles']],\n",
       " ['Toaster', 2, False, []],\n",
       " ['Noodles', 4, True, ['pulling sleds']]]"
      ]
     },
     "execution_count": 1,
     "metadata": {},
     "output_type": "execute_result"
    }
   ],
   "source": [
    "contestants = [\n",
    "    [\"Binkie\", 1, False, []],\n",
    "    [\"Butterball\", 3, True, [\"herding sheep\", \"singing\", \"fetch\", \"pulling sleds\"]],\n",
    "    [\"Kerby\", 5, True, [\"swimming\"]],\n",
    "    [\"Lucy\", 5, False, [\"fetch\", \"solving puzzles\"]],\n",
    "    [\"Toaster\", 2, False, []],\n",
    "    [\"Fifi\", 1, False, []],\n",
    "    [\"Noodles\", 4, True, [\"pulling sleds\"]]\n",
    "]\n",
    "\n",
    "\n",
    "labels = [\"name\", \"age\", \"does_tricks\", \"other_talents\"]\n",
    "\n",
    "def no_puppies_allowed(list1):\n",
    "    return [age for age in list1 if age[1] > 1]\n",
    "no_puppies_allowed(contestants)"
   ]
  }
 ],
 "metadata": {
  "kernelspec": {
   "display_name": "venv",
   "language": "python",
   "name": "python3"
  },
  "language_info": {
   "codemirror_mode": {
    "name": "ipython",
    "version": 3
   },
   "file_extension": ".py",
   "mimetype": "text/x-python",
   "name": "python",
   "nbconvert_exporter": "python",
   "pygments_lexer": "ipython3",
   "version": "3.11.5"
  }
 },
 "nbformat": 4,
 "nbformat_minor": 2
}
