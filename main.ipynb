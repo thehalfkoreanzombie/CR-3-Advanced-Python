{
 "cells": [
  {
   "cell_type": "markdown",
   "metadata": {},
   "source": [
    "1. Write a function called `no_puppies_allowed()` that can take the `contestants` list as an argument.\n",
    "`no_puppies_allowed()` should remove any contestants from `contestants`  whose age (at index 1 of each inner list) is not greater than 1. No puppies allowed!\n",
    "`no_puppies_allowed()` should return the new list of contestants."
   ]
  },
  {
   "cell_type": "code",
   "execution_count": 13,
   "metadata": {},
   "outputs": [
    {
     "name": "stdout",
     "output_type": "stream",
     "text": [
      "[['Butterball', 3, True, ['herding sheep', 'singing', 'fetch', 'pulling sleds']], ['Kerby', 5, True, ['swimming']], ['Lucy', 5, False, ['fetch', 'solving puzzles']], ['Toaster', 2, False, []], ['Noodles', 4, True, ['pulling sleds']]]\n"
     ]
    }
   ],
   "source": [
    "contestants = [\n",
    "    [\"Binkie\", 1, False, []],\n",
    "    [\"Butterball\", 3, True, [\"herding sheep\", \"singing\", \"fetch\", \"pulling sleds\"]],\n",
    "    [\"Kerby\", 5, True, [\"swimming\"]],\n",
    "    [\"Lucy\", 5, False, [\"fetch\", \"solving puzzles\"]],\n",
    "    [\"Toaster\", 2, False, []],\n",
    "    [\"Fifi\", 1, False, []],\n",
    "    [\"Noodles\", 4, True, [\"pulling sleds\"]]\n",
    "]\n",
    "\n",
    "\n",
    "labels = [\"name\", \"age\", \"does_tricks\", \"other_talents\"]\n",
    "\n",
    "def no_puppies_allowed(list1):\n",
    "    return [age for age in list1 if age[1] > 1]\n",
    "no_puppies = no_puppies_allowed(contestants)\n",
    "print(no_puppies)\n"
   ]
  },
  {
   "cell_type": "markdown",
   "metadata": {},
   "source": [
    "Write a function called `lists_to_dicts()` that can take lists like `labels` and the return value of `no_puppies_allowed()` as arguments. \n",
    "`lists_to_dicts()` should return the list of dictionaries.\n",
    "Each dictionary should represent one dog, with labels as keys and that dog’s info as the values."
   ]
  },
  {
   "cell_type": "code",
   "execution_count": 27,
   "metadata": {},
   "outputs": [
    {
     "data": {
      "text/plain": [
       "[{'name': 'Butterball',\n",
       "  'age': 3,\n",
       "  'does_tricks': True,\n",
       "  'other_talents': ['herding sheep', 'singing', 'fetch', 'pulling sleds']},\n",
       " {'name': 'Kerby',\n",
       "  'age': 5,\n",
       "  'does_tricks': True,\n",
       "  'other_talents': ['swimming']},\n",
       " {'name': 'Lucy',\n",
       "  'age': 5,\n",
       "  'does_tricks': False,\n",
       "  'other_talents': ['fetch', 'solving puzzles']},\n",
       " {'name': 'Toaster', 'age': 2, 'does_tricks': False, 'other_talents': []},\n",
       " {'name': 'Noodles',\n",
       "  'age': 4,\n",
       "  'does_tricks': True,\n",
       "  'other_talents': ['pulling sleds']}]"
      ]
     },
     "execution_count": 27,
     "metadata": {},
     "output_type": "execute_result"
    }
   ],
   "source": [
    "def lists_to_dicts(key_list, value_list):\n",
    "    dict_list = []\n",
    "    for nested in value_list:\n",
    "        dict1 = dict(zip(key_list, nested))\n",
    "        dict_list.append(dict1)\n",
    "    return dict_list\n",
    "    \n",
    "    \n",
    "\n",
    "lists_to_dicts(labels, no_puppies)\n",
    "\n"
   ]
  }
 ],
 "metadata": {
  "kernelspec": {
   "display_name": "venv",
   "language": "python",
   "name": "python3"
  },
  "language_info": {
   "codemirror_mode": {
    "name": "ipython",
    "version": 3
   },
   "file_extension": ".py",
   "mimetype": "text/x-python",
   "name": "python",
   "nbconvert_exporter": "python",
   "pygments_lexer": "ipython3",
   "version": "3.11.5"
  }
 },
 "nbformat": 4,
 "nbformat_minor": 2
}
